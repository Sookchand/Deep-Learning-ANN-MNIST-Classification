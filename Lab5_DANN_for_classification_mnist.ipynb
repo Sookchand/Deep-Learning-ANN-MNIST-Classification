{
  "nbformat": 4,
  "nbformat_minor": 0,
  "metadata": {
    "colab": {
      "name": "Lab5: DANN for classification-mnist.ipynb",
      "provenance": [],
      "collapsed_sections": []
    },
    "kernelspec": {
      "name": "python3",
      "display_name": "Python 3"
    },
    "language_info": {
      "name": "python"
    },
    "accelerator": "GPU"
  },
  "cells": [
    {
      "cell_type": "code",
      "source": [
        "from google.colab import drive # Mount the google drive for data loading\n",
        "drive.mount('/content/drive')"
      ],
      "metadata": {
        "colab": {
          "base_uri": "https://localhost:8080/"
        },
        "id": "w78yLSH4XbzF",
        "outputId": "37ca3926-c6bf-418e-d477-a0eba4003a24"
      },
      "execution_count": null,
      "outputs": [
        {
          "output_type": "stream",
          "name": "stdout",
          "text": [
            "Mounted at /content/drive\n"
          ]
        }
      ]
    },
    {
      "cell_type": "markdown",
      "source": [
        "# Import some related dependencies\n",
        "1.   Numpy: a package for array transformation\n",
        "2.   Pandas: a package for loading data with .csv/.xlsx formats\n",
        "3.   Matplotlib: a package for data visualization\n",
        "4.   Skearn: a package including many machine learning approaches\n",
        "5.   Tensorflow: a package for neural networks modeling\n",
        "6.   Keras: a package for neural networks modeling which is established on Tensorflow"
      ],
      "metadata": {
        "id": "qT46thGjXg2p"
      }
    },
    {
      "cell_type": "code",
      "execution_count": null,
      "metadata": {
        "id": "s1Ttfrzj6qnN"
      },
      "outputs": [],
      "source": [
        "import numpy as np #helps for array operation\n",
        "import pandas as pd #helps to read the data\n",
        "import matplotlib.pyplot as plt #helps with graphical plots\n",
        "from sklearn.model_selection import train_test_split #helps to split training data and testing data \n",
        "from sklearn.preprocessing import OneHotEncoder #helps for label one-hot encoding \n",
        "import keras #helps for ANN model construction\n",
        "import tensorflow as tf #helps for ANN model construction"
      ]
    },
    {
      "cell_type": "markdown",
      "source": [
        "# Load data using pandas package\n",
        "Data structure and data visualiazation\n"
      ],
      "metadata": {
        "id": "gyw5QVge7h_J"
      }
    },
    {
      "cell_type": "code",
      "source": [
        "df1 = pd.read_csv('/content/drive/MyDrive/lab_code/mnist_train.csv')  #Load training data with the corresponding path in google drive\n",
        "df2 = pd.read_csv('/content/drive/MyDrive/lab_code/mnist_test.csv')  #Load testing data with the corresponding path in google drive"
      ],
      "metadata": {
        "id": "7tt5t8vg6the"
      },
      "execution_count": null,
      "outputs": []
    },
    {
      "cell_type": "code",
      "source": [
        "print (df1.shape)\n",
        "print (df2.shape)"
      ],
      "metadata": {
        "colab": {
          "base_uri": "https://localhost:8080/"
        },
        "id": "vH3dXFuqirNx",
        "outputId": "dc0beeb4-4b0f-45e8-c3d8-c4aefd1a53f6"
      },
      "execution_count": null,
      "outputs": [
        {
          "output_type": "stream",
          "name": "stdout",
          "text": [
            "(60000, 785)\n",
            "(10000, 785)\n"
          ]
        }
      ]
    },
    {
      "cell_type": "code",
      "source": [
        "X_train, y_train = df1.values[:,:-1], df1.values[:,-1:]\n",
        "X_test, y_test = df2.values[:,:-1], df2.values[:,-1:]"
      ],
      "metadata": {
        "id": "iOpUGdZriSIk"
      },
      "execution_count": null,
      "outputs": []
    },
    {
      "cell_type": "code",
      "source": [
        "onehot = OneHotEncoder()                     #An objective for one-hot package\n",
        "onehot.fit(y_train)                          #Transform labels to be the one-hot format\n",
        "y_train_onehot = onehot.transform(y_train).toarray() #Transform training labels to be one-hot format\n",
        "y_test_onehot = onehot.transform(y_test).toarray() #Transform testing labels to be one-hot format"
      ],
      "metadata": {
        "id": "qLOGS-eKgJHK"
      },
      "execution_count": null,
      "outputs": []
    },
    {
      "cell_type": "code",
      "source": [
        "#Visualization of training data\n",
        "plt.imshow(X_train[0,:].reshape(28,28), cmap=plt.get_cmap('gray'))\n",
        "print ('Label of this image:', y_train[0,:])\n",
        "plt.show()\n",
        "plt.imshow(X_train[1,:].reshape(28,28), cmap=plt.get_cmap('gray'))\n",
        "print ('Label of this image:', y_train[1,:])\n",
        "plt.show()\n",
        "plt.imshow(X_train[50,:].reshape(28,28), cmap=plt.get_cmap('gray'))\n",
        "print ('Label of this image:', y_train[50,:])\n",
        "plt.show()"
      ],
      "metadata": {
        "colab": {
          "base_uri": "https://localhost:8080/",
          "height": 813
        },
        "id": "OQGzLSBeKea1",
        "outputId": "9fa863de-771d-4d85-c75a-03ea71c2e548"
      },
      "execution_count": null,
      "outputs": [
        {
          "output_type": "stream",
          "name": "stdout",
          "text": [
            "Label of this image: [5]\n"
          ]
        },
        {
          "output_type": "display_data",
          "data": {
            "image/png": "[encoded data removed]",
            "text/plain": [
              "<Figure size 432x288 with 1 Axes>"
            ]
          },
          "metadata": {
            "needs_background": "light"
          }
        },
        {
          "output_type": "stream",
          "name": "stdout",
          "text": [
            "Label of this image: [0]\n"
          ]
        },
        {
          "output_type": "display_data",
          "data": {
            "image/png": "[encoded data removed]",
            "text/plain": [
              "<Figure size 432x288 with 1 Axes>"
            ]
          },
          "metadata": {
            "needs_background": "light"
          }
        },
        {
          "output_type": "stream",
          "name": "stdout",
          "text": [
            "Label of this image: [3]\n"
          ]
        },
        {
          "output_type": "display_data",
          "data": {
            "image/png": "[encoded data removed]",
            "text/plain": [
              "<Figure size 432x288 with 1 Axes>"
            ]
          },
          "metadata": {
            "needs_background": "light"
          }
        }
      ]
    },
    {
      "cell_type": "markdown",
      "source": [
        "# Model training"
      ],
      "metadata": {
        "id": "0uOu1iyXikHT"
      }
    },
    {
      "cell_type": "code",
      "source": [
        "model = keras.Sequential()                         \n",
        "model.add(keras.layers.Dense(1024, input_shape=(784,))) # In the first layer, we have 1024 neurons for output and 784 neurons for input\n",
        "model.add(keras.layers.Activation(\"relu\"))              # Use of activation function of Rectified Linear Unit (ReLU)\n",
        "model.add(keras.layers.Dense(512))                       # In the second layer, we have 512 neurons for output and 1024 neurons for input\n",
        "model.add(keras.layers.Activation(\"relu\"))              # Use of activation function of Rectified Linear Unit (ReLU)\n",
        "model.add(keras.layers.Dense(64))                       # In the second layer, we have 64 neurons for output and 512 neurons for input\n",
        "model.add(keras.layers.Activation(\"relu\"))              # Use of activation function of Rectified Linear Unit (ReLU)\n",
        "model.add(keras.layers.Dense(10))                       # In the second layer, we have 10 neurons for output and 64 neurons for input\n",
        "model.add(keras.layers.Activation(\"softmax\"))           # softmax is used for probability estimation, which is suitable for classification tasks\n",
        "model.compile(tf.keras.optimizers.SGD(learning_rate = 1e-3), 'categorical_crossentropy', metrics='acc') # compile the model with a SGD optimizer, a loss of categorical crossentropy, and a accuracy metric\n",
        "model.summary()\n",
        "model.fit(X_train, y_train_onehot, epochs = 50, batch_size = 1024, verbose = 2, validation_data = (X_test, y_test_onehot)) #training the model with some hyper-parameters\n"
      ],
      "metadata": {
        "colab": {
          "base_uri": "https://localhost:8080/"
        },
        "id": "wKUJc185IQTn",
        "outputId": "1963455f-e494-4a5e-d7b3-239d8977ed86"
      },
      "execution_count": null,
      "outputs": [
        {
          "output_type": "stream",
          "name": "stdout",
          "text": [
            "Model: \"sequential\"\n",
            "_________________________________________________________________\n",
            " Layer (type)                Output Shape              Param #   \n",
            "=================================================================\n",
            " dense (Dense)               (None, 1024)              803840    \n",
            "                                                                 \n",
            " activation (Activation)     (None, 1024)              0         \n",
            "                                                                 \n",
            " dense_1 (Dense)             (None, 512)               524800    \n",
            "                                                                 \n",
            " activation_1 (Activation)   (None, 512)               0         \n",
            "                                                                 \n",
            " dense_2 (Dense)             (None, 64)                32832     \n",
            "                                                                 \n",
            " activation_2 (Activation)   (None, 64)                0         \n",
            "                                                                 \n",
            " dense_3 (Dense)             (None, 10)                650       \n",
            "                                                                 \n",
            " activation_3 (Activation)   (None, 10)                0         \n",
            "                                                                 \n",
            "=================================================================\n",
            "Total params: 1,362,122\n",
            "Trainable params: 1,362,122\n",
            "Non-trainable params: 0\n",
            "_________________________________________________________________\n",
            "Epoch 1/50\n",
            "59/59 - 2s - loss: 13.4829 - acc: 0.4862 - val_loss: 1.2311 - val_acc: 0.6227 - 2s/epoch - 42ms/step\n",
            "Epoch 2/50\n",
            "59/59 - 0s - loss: 1.0378 - acc: 0.6888 - val_loss: 0.8860 - val_acc: 0.7533 - 419ms/epoch - 7ms/step\n",
            "Epoch 3/50\n",
            "59/59 - 0s - loss: 0.7835 - acc: 0.7721 - val_loss: 0.7374 - val_acc: 0.7989 - 407ms/epoch - 7ms/step\n",
            "Epoch 4/50\n",
            "59/59 - 0s - loss: 0.6528 - acc: 0.8151 - val_loss: 0.6509 - val_acc: 0.8274 - 415ms/epoch - 7ms/step\n",
            "Epoch 5/50\n",
            "59/59 - 0s - loss: 0.5709 - acc: 0.8391 - val_loss: 0.5896 - val_acc: 0.8447 - 394ms/epoch - 7ms/step\n",
            "Epoch 6/50\n",
            "59/59 - 0s - loss: 0.5134 - acc: 0.8546 - val_loss: 0.5477 - val_acc: 0.8584 - 430ms/epoch - 7ms/step\n",
            "Epoch 7/50\n",
            "59/59 - 0s - loss: 0.4688 - acc: 0.8663 - val_loss: 0.5133 - val_acc: 0.8667 - 426ms/epoch - 7ms/step\n",
            "Epoch 8/50\n",
            "59/59 - 0s - loss: 0.4329 - acc: 0.8757 - val_loss: 0.4869 - val_acc: 0.8743 - 403ms/epoch - 7ms/step\n",
            "Epoch 9/50\n",
            "59/59 - 0s - loss: 0.4031 - acc: 0.8836 - val_loss: 0.4651 - val_acc: 0.8797 - 406ms/epoch - 7ms/step\n",
            "Epoch 10/50\n",
            "59/59 - 0s - loss: 0.3787 - acc: 0.8899 - val_loss: 0.4470 - val_acc: 0.8848 - 398ms/epoch - 7ms/step\n",
            "Epoch 11/50\n",
            "59/59 - 0s - loss: 0.3569 - acc: 0.8967 - val_loss: 0.4314 - val_acc: 0.8893 - 409ms/epoch - 7ms/step\n",
            "Epoch 12/50\n",
            "59/59 - 0s - loss: 0.3378 - acc: 0.9020 - val_loss: 0.4172 - val_acc: 0.8928 - 403ms/epoch - 7ms/step\n",
            "Epoch 13/50\n",
            "59/59 - 0s - loss: 0.3208 - acc: 0.9061 - val_loss: 0.4068 - val_acc: 0.8972 - 392ms/epoch - 7ms/step\n",
            "Epoch 14/50\n",
            "59/59 - 0s - loss: 0.3060 - acc: 0.9108 - val_loss: 0.3952 - val_acc: 0.9002 - 409ms/epoch - 7ms/step\n",
            "Epoch 15/50\n",
            "59/59 - 0s - loss: 0.2924 - acc: 0.9147 - val_loss: 0.3853 - val_acc: 0.9024 - 407ms/epoch - 7ms/step\n",
            "Epoch 16/50\n",
            "59/59 - 0s - loss: 0.2799 - acc: 0.9181 - val_loss: 0.3762 - val_acc: 0.9044 - 426ms/epoch - 7ms/step\n",
            "Epoch 17/50\n",
            "59/59 - 0s - loss: 0.2683 - acc: 0.9213 - val_loss: 0.3688 - val_acc: 0.9050 - 390ms/epoch - 7ms/step\n",
            "Epoch 18/50\n",
            "59/59 - 0s - loss: 0.2576 - acc: 0.9243 - val_loss: 0.3616 - val_acc: 0.9078 - 413ms/epoch - 7ms/step\n",
            "Epoch 19/50\n",
            "59/59 - 0s - loss: 0.2482 - acc: 0.9270 - val_loss: 0.3573 - val_acc: 0.9099 - 409ms/epoch - 7ms/step\n",
            "Epoch 20/50\n",
            "59/59 - 0s - loss: 0.2390 - acc: 0.9298 - val_loss: 0.3500 - val_acc: 0.9118 - 393ms/epoch - 7ms/step\n",
            "Epoch 21/50\n",
            "59/59 - 0s - loss: 0.2305 - acc: 0.9317 - val_loss: 0.3439 - val_acc: 0.9130 - 410ms/epoch - 7ms/step\n",
            "Epoch 22/50\n",
            "59/59 - 0s - loss: 0.2226 - acc: 0.9341 - val_loss: 0.3414 - val_acc: 0.9141 - 409ms/epoch - 7ms/step\n",
            "Epoch 23/50\n",
            "59/59 - 0s - loss: 0.2155 - acc: 0.9362 - val_loss: 0.3355 - val_acc: 0.9160 - 394ms/epoch - 7ms/step\n",
            "Epoch 24/50\n",
            "59/59 - 0s - loss: 0.2087 - acc: 0.9385 - val_loss: 0.3314 - val_acc: 0.9176 - 399ms/epoch - 7ms/step\n",
            "Epoch 25/50\n",
            "59/59 - 0s - loss: 0.2023 - acc: 0.9402 - val_loss: 0.3290 - val_acc: 0.9186 - 385ms/epoch - 7ms/step\n",
            "Epoch 26/50\n",
            "59/59 - 0s - loss: 0.1963 - acc: 0.9422 - val_loss: 0.3235 - val_acc: 0.9194 - 393ms/epoch - 7ms/step\n",
            "Epoch 27/50\n",
            "59/59 - 0s - loss: 0.1905 - acc: 0.9435 - val_loss: 0.3195 - val_acc: 0.9205 - 384ms/epoch - 7ms/step\n",
            "Epoch 28/50\n",
            "59/59 - 0s - loss: 0.1852 - acc: 0.9457 - val_loss: 0.3170 - val_acc: 0.9209 - 389ms/epoch - 7ms/step\n",
            "Epoch 29/50\n",
            "59/59 - 0s - loss: 0.1802 - acc: 0.9470 - val_loss: 0.3137 - val_acc: 0.9219 - 390ms/epoch - 7ms/step\n",
            "Epoch 30/50\n",
            "59/59 - 0s - loss: 0.1753 - acc: 0.9482 - val_loss: 0.3102 - val_acc: 0.9230 - 402ms/epoch - 7ms/step\n",
            "Epoch 31/50\n",
            "59/59 - 0s - loss: 0.1708 - acc: 0.9498 - val_loss: 0.3082 - val_acc: 0.9236 - 404ms/epoch - 7ms/step\n",
            "Epoch 32/50\n",
            "59/59 - 0s - loss: 0.1664 - acc: 0.9506 - val_loss: 0.3058 - val_acc: 0.9242 - 389ms/epoch - 7ms/step\n",
            "Epoch 33/50\n",
            "59/59 - 0s - loss: 0.1621 - acc: 0.9525 - val_loss: 0.3033 - val_acc: 0.9248 - 389ms/epoch - 7ms/step\n",
            "Epoch 34/50\n",
            "59/59 - 0s - loss: 0.1582 - acc: 0.9533 - val_loss: 0.3007 - val_acc: 0.9259 - 406ms/epoch - 7ms/step\n",
            "Epoch 35/50\n",
            "59/59 - 0s - loss: 0.1544 - acc: 0.9542 - val_loss: 0.2961 - val_acc: 0.9263 - 396ms/epoch - 7ms/step\n",
            "Epoch 36/50\n",
            "59/59 - 0s - loss: 0.1507 - acc: 0.9559 - val_loss: 0.2972 - val_acc: 0.9267 - 411ms/epoch - 7ms/step\n",
            "Epoch 37/50\n",
            "59/59 - 0s - loss: 0.1473 - acc: 0.9564 - val_loss: 0.2940 - val_acc: 0.9279 - 387ms/epoch - 7ms/step\n",
            "Epoch 38/50\n",
            "59/59 - 0s - loss: 0.1439 - acc: 0.9580 - val_loss: 0.2932 - val_acc: 0.9284 - 389ms/epoch - 7ms/step\n",
            "Epoch 39/50\n",
            "59/59 - 0s - loss: 0.1407 - acc: 0.9585 - val_loss: 0.2914 - val_acc: 0.9281 - 396ms/epoch - 7ms/step\n",
            "Epoch 40/50\n",
            "59/59 - 0s - loss: 0.1376 - acc: 0.9596 - val_loss: 0.2888 - val_acc: 0.9301 - 391ms/epoch - 7ms/step\n",
            "Epoch 41/50\n",
            "59/59 - 0s - loss: 0.1348 - acc: 0.9603 - val_loss: 0.2879 - val_acc: 0.9302 - 386ms/epoch - 7ms/step\n",
            "Epoch 42/50\n",
            "59/59 - 0s - loss: 0.1319 - acc: 0.9612 - val_loss: 0.2866 - val_acc: 0.9303 - 403ms/epoch - 7ms/step\n",
            "Epoch 43/50\n",
            "59/59 - 0s - loss: 0.1293 - acc: 0.9621 - val_loss: 0.2846 - val_acc: 0.9312 - 399ms/epoch - 7ms/step\n",
            "Epoch 44/50\n",
            "59/59 - 0s - loss: 0.1266 - acc: 0.9632 - val_loss: 0.2831 - val_acc: 0.9318 - 411ms/epoch - 7ms/step\n",
            "Epoch 45/50\n",
            "59/59 - 0s - loss: 0.1240 - acc: 0.9638 - val_loss: 0.2810 - val_acc: 0.9320 - 399ms/epoch - 7ms/step\n",
            "Epoch 46/50\n",
            "59/59 - 0s - loss: 0.1216 - acc: 0.9644 - val_loss: 0.2814 - val_acc: 0.9327 - 403ms/epoch - 7ms/step\n",
            "Epoch 47/50\n",
            "59/59 - 0s - loss: 0.1194 - acc: 0.9650 - val_loss: 0.2795 - val_acc: 0.9336 - 392ms/epoch - 7ms/step\n",
            "Epoch 48/50\n",
            "59/59 - 0s - loss: 0.1170 - acc: 0.9660 - val_loss: 0.2793 - val_acc: 0.9341 - 398ms/epoch - 7ms/step\n",
            "Epoch 49/50\n",
            "59/59 - 0s - loss: 0.1148 - acc: 0.9665 - val_loss: 0.2764 - val_acc: 0.9336 - 400ms/epoch - 7ms/step\n",
            "Epoch 50/50\n",
            "59/59 - 0s - loss: 0.1125 - acc: 0.9673 - val_loss: 0.2761 - val_acc: 0.9338 - 392ms/epoch - 7ms/step\n"
          ]
        },
        {
          "output_type": "execute_result",
          "data": {
            "text/plain": [
              "<keras.callbacks.History at 0x7fab104c9f50>"
            ]
          },
          "metadata": {},
          "execution_count": 8
        }
      ]
    },
    {
      "cell_type": "markdown",
      "source": [
        "# Model testing"
      ],
      "metadata": {
        "id": "QuEVdA6nVUbT"
      }
    },
    {
      "cell_type": "code",
      "source": [
        "prediction = model.predict(X_test)            # Predict the testing set\n",
        "print (model.evaluate(X_test, y_test_onehot)) # Evaluation the prediction, and accuracy in the test set is 0.935"
      ],
      "metadata": {
        "id": "GmKr6Sbf9alA",
        "colab": {
          "base_uri": "https://localhost:8080/"
        },
        "outputId": "6877989a-9495-4818-9b45-112658607714"
      },
      "execution_count": null,
      "outputs": [
        {
          "output_type": "stream",
          "name": "stdout",
          "text": [
            "313/313 [==============================] - 2s 6ms/step - loss: 0.2670 - acc: 0.9349\n",
            "[0.26699700951576233, 0.9348999857902527]\n"
          ]
        }
      ]
    },
    {
      "cell_type": "code",
      "source": [
        "#Visualization of testing data\n",
        "plt.imshow(X_test[0,:].reshape(28,28), cmap=plt.get_cmap('gray'))\n",
        "print ('Prediction of this image:', np.argmax(prediction[0,:]))\n",
        "plt.show()\n",
        "plt.imshow(X_test[1,:].reshape(28,28), cmap=plt.get_cmap('gray'))\n",
        "print ('Prediction of this image:', np.argmax(prediction[1,:]))\n",
        "plt.show()\n",
        "plt.imshow(X_test[50,:].reshape(28,28), cmap=plt.get_cmap('gray'))\n",
        "print ('Prediction of this image:', np.argmax(prediction[50,:]))\n",
        "plt.show()"
      ],
      "metadata": {
        "colab": {
          "base_uri": "https://localhost:8080/",
          "height": 813
        },
        "id": "F1d4YUE0disZ",
        "outputId": "871b8eb1-a6ca-4ee4-b33f-896275d3e4c2"
      },
      "execution_count": null,
      "outputs": [
        {
          "output_type": "stream",
          "name": "stdout",
          "text": [
            "Prediction of this image: 7\n"
          ]
        },
        {
          "output_type": "display_data",
          "data": {
            "image/png": "[encoded data removed]",
            "text/plain": [
              "<Figure size 432x288 with 1 Axes>"
            ]
          },
          "metadata": {
            "needs_background": "light"
          }
        },
        {
          "output_type": "stream",
          "name": "stdout",
          "text": [
            "Prediction of this image: 2\n"
          ]
        },
        {
          "output_type": "display_data",
          "data": {
            "image/png": "[encoded data removed]",
            "text/plain": [
              "<Figure size 432x288 with 1 Axes>"
            ]
          },
          "metadata": {
            "needs_background": "light"
          }
        },
        {
          "output_type": "stream",
          "name": "stdout",
          "text": [
            "Prediction of this image: 6\n"
          ]
        },
        {
          "output_type": "display_data",
          "data": {
            "image/png": "[encoded data removed]",
            "text/plain": [
              "<Figure size 432x288 with 1 Axes>"
            ]
          },
          "metadata": {
            "needs_background": "light"
          }
        }
      ]
    },
    {
      "cell_type": "markdown",
      "source": [
        "# Extra dropout layer"
      ],
      "metadata": {
        "id": "v-FBOK71Zdsh"
      }
    },
    {
      "cell_type": "code",
      "source": [
        "model = keras.Sequential()                         \n",
        "model.add(keras.layers.Dense(1024, input_shape=(784,))) # In the first layer, we have 1024 neurons for output and 784 neurons for input\n",
        "model.add(keras.layers.Activation(\"relu\"))              # Use of activation function of Rectified Linear Unit (ReLU)\n",
        "model.add(keras.layers.Dropout(0.08))                   # Use for alleviating model overfitting, 0.08 is the dropout rate.\n",
        "model.add(keras.layers.Dense(512))                       # In the second layer, we have 512 neurons for output and 1024 neurons for input\n",
        "model.add(keras.layers.Activation(\"relu\"))              # Use of activation function of Rectified Linear Unit (ReLU)\n",
        "model.add(keras.layers.Dense(64))                       # In the second layer, we have 64 neurons for output and 512 neurons for input\n",
        "model.add(keras.layers.Activation(\"relu\"))              # Use of activation function of Rectified Linear Unit (ReLU)\n",
        "model.add(keras.layers.Dense(10))                       # In the second layer, we have 10 neurons for output and 64 neurons for input\n",
        "model.add(keras.layers.Activation(\"softmax\"))           # softmax is used for probability estimation, which is suitable for classification tasks\n",
        "model.compile(tf.keras.optimizers.SGD(learning_rate = 1e-3), 'categorical_crossentropy', metrics='acc') # compile the model with a SGD optimizer, a loss of categorical crossentropy, and a accuracy metric\n",
        "model.summary()\n",
        "model.fit(X_train, y_train_onehot, epochs = 50, batch_size = 1024, verbose = 2, validation_data = (X_test, y_test_onehot)) #training the model with some hyper-parameters"
      ],
      "metadata": {
        "id": "9YKgplQqVJK4",
        "colab": {
          "base_uri": "https://localhost:8080/"
        },
        "outputId": "e891f94f-54ab-4142-fbca-5c198d435dfb"
      },
      "execution_count": null,
      "outputs": [
        {
          "output_type": "stream",
          "name": "stdout",
          "text": [
            "Model: \"sequential_14\"\n",
            "_________________________________________________________________\n",
            " Layer (type)                Output Shape              Param #   \n",
            "=================================================================\n",
            " dense_56 (Dense)            (None, 1024)              803840    \n",
            "                                                                 \n",
            " activation_56 (Activation)  (None, 1024)              0         \n",
            "                                                                 \n",
            " dropout_13 (Dropout)        (None, 1024)              0         \n",
            "                                                                 \n",
            " dense_57 (Dense)            (None, 512)               524800    \n",
            "                                                                 \n",
            " activation_57 (Activation)  (None, 512)               0         \n",
            "                                                                 \n",
            " dense_58 (Dense)            (None, 64)                32832     \n",
            "                                                                 \n",
            " activation_58 (Activation)  (None, 64)                0         \n",
            "                                                                 \n",
            " dense_59 (Dense)            (None, 10)                650       \n",
            "                                                                 \n",
            " activation_59 (Activation)  (None, 10)                0         \n",
            "                                                                 \n",
            "=================================================================\n",
            "Total params: 1,362,122\n",
            "Trainable params: 1,362,122\n",
            "Non-trainable params: 0\n",
            "_________________________________________________________________\n",
            "Epoch 1/50\n",
            "59/59 - 1s - loss: 10.5993 - acc: 0.4285 - val_loss: 1.3162 - val_acc: 0.5556 - 1s/epoch - 17ms/step\n",
            "Epoch 2/50\n",
            "59/59 - 0s - loss: 1.2643 - acc: 0.6102 - val_loss: 0.9604 - val_acc: 0.6872 - 482ms/epoch - 8ms/step\n",
            "Epoch 3/50\n",
            "59/59 - 0s - loss: 1.0068 - acc: 0.6973 - val_loss: 0.7814 - val_acc: 0.7531 - 437ms/epoch - 7ms/step\n",
            "Epoch 4/50\n",
            "59/59 - 0s - loss: 0.8596 - acc: 0.7454 - val_loss: 0.6898 - val_acc: 0.7871 - 425ms/epoch - 7ms/step\n",
            "Epoch 5/50\n",
            "59/59 - 0s - loss: 0.7773 - acc: 0.7744 - val_loss: 0.6216 - val_acc: 0.8122 - 433ms/epoch - 7ms/step\n",
            "Epoch 6/50\n",
            "59/59 - 0s - loss: 0.7026 - acc: 0.7976 - val_loss: 0.5732 - val_acc: 0.8264 - 423ms/epoch - 7ms/step\n",
            "Epoch 7/50\n",
            "59/59 - 0s - loss: 0.6542 - acc: 0.8103 - val_loss: 0.5382 - val_acc: 0.8399 - 424ms/epoch - 7ms/step\n",
            "Epoch 8/50\n",
            "59/59 - 0s - loss: 0.6172 - acc: 0.8242 - val_loss: 0.5024 - val_acc: 0.8529 - 432ms/epoch - 7ms/step\n",
            "Epoch 9/50\n",
            "59/59 - 0s - loss: 0.5790 - acc: 0.8355 - val_loss: 0.4795 - val_acc: 0.8590 - 411ms/epoch - 7ms/step\n",
            "Epoch 10/50\n",
            "59/59 - 0s - loss: 0.5501 - acc: 0.8443 - val_loss: 0.4589 - val_acc: 0.8649 - 411ms/epoch - 7ms/step\n",
            "Epoch 11/50\n",
            "59/59 - 0s - loss: 0.5269 - acc: 0.8512 - val_loss: 0.4395 - val_acc: 0.8745 - 422ms/epoch - 7ms/step\n",
            "Epoch 12/50\n",
            "59/59 - 0s - loss: 0.5061 - acc: 0.8588 - val_loss: 0.4203 - val_acc: 0.8797 - 420ms/epoch - 7ms/step\n",
            "Epoch 13/50\n",
            "59/59 - 0s - loss: 0.4806 - acc: 0.8645 - val_loss: 0.4106 - val_acc: 0.8843 - 417ms/epoch - 7ms/step\n",
            "Epoch 14/50\n",
            "59/59 - 0s - loss: 0.4678 - acc: 0.8696 - val_loss: 0.3939 - val_acc: 0.8899 - 421ms/epoch - 7ms/step\n",
            "Epoch 15/50\n",
            "59/59 - 0s - loss: 0.4486 - acc: 0.8748 - val_loss: 0.3828 - val_acc: 0.8903 - 405ms/epoch - 7ms/step\n",
            "Epoch 16/50\n",
            "59/59 - 0s - loss: 0.4350 - acc: 0.8775 - val_loss: 0.3734 - val_acc: 0.8956 - 438ms/epoch - 7ms/step\n",
            "Epoch 17/50\n",
            "59/59 - 0s - loss: 0.4201 - acc: 0.8817 - val_loss: 0.3663 - val_acc: 0.8983 - 415ms/epoch - 7ms/step\n",
            "Epoch 18/50\n",
            "59/59 - 0s - loss: 0.4114 - acc: 0.8845 - val_loss: 0.3565 - val_acc: 0.9021 - 402ms/epoch - 7ms/step\n",
            "Epoch 19/50\n",
            "59/59 - 0s - loss: 0.3970 - acc: 0.8894 - val_loss: 0.3494 - val_acc: 0.9033 - 415ms/epoch - 7ms/step\n",
            "Epoch 20/50\n",
            "59/59 - 0s - loss: 0.3872 - acc: 0.8927 - val_loss: 0.3417 - val_acc: 0.9065 - 405ms/epoch - 7ms/step\n",
            "Epoch 21/50\n",
            "59/59 - 0s - loss: 0.3752 - acc: 0.8953 - val_loss: 0.3358 - val_acc: 0.9083 - 422ms/epoch - 7ms/step\n",
            "Epoch 22/50\n",
            "59/59 - 0s - loss: 0.3697 - acc: 0.8968 - val_loss: 0.3313 - val_acc: 0.9091 - 415ms/epoch - 7ms/step\n",
            "Epoch 23/50\n",
            "59/59 - 0s - loss: 0.3568 - acc: 0.8999 - val_loss: 0.3250 - val_acc: 0.9115 - 406ms/epoch - 7ms/step\n",
            "Epoch 24/50\n",
            "59/59 - 0s - loss: 0.3520 - acc: 0.9021 - val_loss: 0.3199 - val_acc: 0.9138 - 413ms/epoch - 7ms/step\n",
            "Epoch 25/50\n",
            "59/59 - 0s - loss: 0.3445 - acc: 0.9053 - val_loss: 0.3146 - val_acc: 0.9156 - 403ms/epoch - 7ms/step\n",
            "Epoch 26/50\n",
            "59/59 - 1s - loss: 0.3357 - acc: 0.9064 - val_loss: 0.3093 - val_acc: 0.9169 - 533ms/epoch - 9ms/step\n",
            "Epoch 27/50\n",
            "59/59 - 1s - loss: 0.3271 - acc: 0.9091 - val_loss: 0.3064 - val_acc: 0.9196 - 525ms/epoch - 9ms/step\n",
            "Epoch 28/50\n",
            "59/59 - 1s - loss: 0.3217 - acc: 0.9104 - val_loss: 0.3024 - val_acc: 0.9193 - 515ms/epoch - 9ms/step\n",
            "Epoch 29/50\n",
            "59/59 - 1s - loss: 0.3187 - acc: 0.9113 - val_loss: 0.2973 - val_acc: 0.9209 - 530ms/epoch - 9ms/step\n",
            "Epoch 30/50\n",
            "59/59 - 0s - loss: 0.3090 - acc: 0.9133 - val_loss: 0.2924 - val_acc: 0.9230 - 449ms/epoch - 8ms/step\n",
            "Epoch 31/50\n",
            "59/59 - 0s - loss: 0.3049 - acc: 0.9153 - val_loss: 0.2884 - val_acc: 0.9245 - 493ms/epoch - 8ms/step\n",
            "Epoch 32/50\n",
            "59/59 - 1s - loss: 0.2970 - acc: 0.9166 - val_loss: 0.2849 - val_acc: 0.9246 - 701ms/epoch - 12ms/step\n",
            "Epoch 33/50\n",
            "59/59 - 1s - loss: 0.2949 - acc: 0.9176 - val_loss: 0.2818 - val_acc: 0.9266 - 667ms/epoch - 11ms/step\n",
            "Epoch 34/50\n",
            "59/59 - 1s - loss: 0.2857 - acc: 0.9196 - val_loss: 0.2792 - val_acc: 0.9271 - 650ms/epoch - 11ms/step\n",
            "Epoch 35/50\n",
            "59/59 - 1s - loss: 0.2825 - acc: 0.9205 - val_loss: 0.2751 - val_acc: 0.9275 - 605ms/epoch - 10ms/step\n",
            "Epoch 36/50\n",
            "59/59 - 1s - loss: 0.2787 - acc: 0.9225 - val_loss: 0.2738 - val_acc: 0.9299 - 683ms/epoch - 12ms/step\n",
            "Epoch 37/50\n",
            "59/59 - 1s - loss: 0.2730 - acc: 0.9223 - val_loss: 0.2699 - val_acc: 0.9295 - 653ms/epoch - 11ms/step\n",
            "Epoch 38/50\n",
            "59/59 - 1s - loss: 0.2687 - acc: 0.9241 - val_loss: 0.2677 - val_acc: 0.9295 - 656ms/epoch - 11ms/step\n",
            "Epoch 39/50\n",
            "59/59 - 1s - loss: 0.2631 - acc: 0.9257 - val_loss: 0.2660 - val_acc: 0.9302 - 684ms/epoch - 12ms/step\n",
            "Epoch 40/50\n",
            "59/59 - 1s - loss: 0.2634 - acc: 0.9262 - val_loss: 0.2626 - val_acc: 0.9322 - 709ms/epoch - 12ms/step\n",
            "Epoch 41/50\n",
            "59/59 - 1s - loss: 0.2565 - acc: 0.9273 - val_loss: 0.2585 - val_acc: 0.9324 - 610ms/epoch - 10ms/step\n",
            "Epoch 42/50\n",
            "59/59 - 0s - loss: 0.2523 - acc: 0.9287 - val_loss: 0.2561 - val_acc: 0.9333 - 482ms/epoch - 8ms/step\n",
            "Epoch 43/50\n",
            "59/59 - 0s - loss: 0.2510 - acc: 0.9286 - val_loss: 0.2554 - val_acc: 0.9333 - 459ms/epoch - 8ms/step\n",
            "Epoch 44/50\n",
            "59/59 - 0s - loss: 0.2486 - acc: 0.9292 - val_loss: 0.2519 - val_acc: 0.9347 - 439ms/epoch - 7ms/step\n",
            "Epoch 45/50\n",
            "59/59 - 0s - loss: 0.2427 - acc: 0.9315 - val_loss: 0.2495 - val_acc: 0.9349 - 465ms/epoch - 8ms/step\n",
            "Epoch 46/50\n",
            "59/59 - 0s - loss: 0.2392 - acc: 0.9324 - val_loss: 0.2471 - val_acc: 0.9363 - 435ms/epoch - 7ms/step\n",
            "Epoch 47/50\n",
            "59/59 - 0s - loss: 0.2333 - acc: 0.9331 - val_loss: 0.2440 - val_acc: 0.9370 - 411ms/epoch - 7ms/step\n",
            "Epoch 48/50\n",
            "59/59 - 0s - loss: 0.2330 - acc: 0.9346 - val_loss: 0.2430 - val_acc: 0.9375 - 434ms/epoch - 7ms/step\n",
            "Epoch 49/50\n",
            "59/59 - 0s - loss: 0.2284 - acc: 0.9354 - val_loss: 0.2406 - val_acc: 0.9385 - 430ms/epoch - 7ms/step\n",
            "Epoch 50/50\n",
            "59/59 - 0s - loss: 0.2283 - acc: 0.9351 - val_loss: 0.2386 - val_acc: 0.9395 - 447ms/epoch - 8ms/step\n"
          ]
        },
        {
          "output_type": "execute_result",
          "data": {
            "text/plain": [
              "<keras.callbacks.History at 0x7faa722447d0>"
            ]
          },
          "metadata": {},
          "execution_count": 23
        }
      ]
    },
    {
      "cell_type": "code",
      "source": [
        "prediction = model.predict(X_test)            # Predict the testing set\n",
        "print (model.evaluate(X_test, y_test_onehot)) # Evaluation the prediction. Evaluation loss for testing set with a dropout layer is smaller than testing set without a dropout layer. Accuracy is 0.9395, which is a bit better than previous result."
      ],
      "metadata": {
        "colab": {
          "base_uri": "https://localhost:8080/"
        },
        "id": "BaCppGQpaAeA",
        "outputId": "51164268-0327-4f37-e81a-15b26d3e1a68"
      },
      "execution_count": null,
      "outputs": [
        {
          "output_type": "stream",
          "name": "stdout",
          "text": [
            "313/313 [==============================] - 1s 3ms/step - loss: 0.2386 - acc: 0.9395\n",
            "[0.23856718838214874, 0.9394999742507935]\n"
          ]
        }
      ]
    },
    {
      "cell_type": "code",
      "source": [
        ""
      ],
      "metadata": {
        "id": "MjK0BtNSdDBD"
      },
      "execution_count": null,
      "outputs": []
    }
  ]
}